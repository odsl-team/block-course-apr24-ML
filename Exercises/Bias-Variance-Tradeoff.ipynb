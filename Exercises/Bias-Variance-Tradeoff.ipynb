{
 "cells": [
  {
   "cell_type": "markdown",
   "id": "46db1c4e-4c7d-4935-99f8-21672c8741ae",
   "metadata": {},
   "source": [
    "# Bias Variance Tradeoff"
   ]
  }
 ],
 "metadata": {
  "kernelspec": {
   "display_name": "Python 3 (ipykernel)",
   "language": "python",
   "name": "python3"
  },
  "language_info": {
   "codemirror_mode": {
    "name": "ipython",
    "version": 3
   },
   "file_extension": ".py",
   "mimetype": "text/x-python",
   "name": "python",
   "nbconvert_exporter": "python",
   "pygments_lexer": "ipython3",
   "version": "3.11.4"
  }
 },
 "nbformat": 4,
 "nbformat_minor": 5
}
